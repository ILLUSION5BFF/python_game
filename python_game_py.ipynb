{
  "nbformat": 4,
  "nbformat_minor": 0,
  "metadata": {
    "colab": {
      "provenance": [],
      "authorship_tag": "ABX9TyMZ9b36v+dR0YnbsoH2LyzB",
      "include_colab_link": true
    },
    "kernelspec": {
      "name": "python3",
      "display_name": "Python 3"
    },
    "language_info": {
      "name": "python"
    }
  },
  "cells": [
    {
      "cell_type": "markdown",
      "metadata": {
        "id": "view-in-github",
        "colab_type": "text"
      },
      "source": [
        "<a href=\"https://colab.research.google.com/github/ILLUSION5BFF/python_game/blob/main/python_game_py.ipynb\" target=\"_parent\"><img src=\"https://colab.research.google.com/assets/colab-badge.svg\" alt=\"Open In Colab\"/></a>"
      ]
    },
    {
      "cell_type": "code",
      "execution_count": null,
      "metadata": {
        "id": "CodfqWghsnp-"
      },
      "outputs": [],
      "source": [
        "1 name = input[Type your name ]\n",
        "2 print[\"Welcome\"],name,\"to this adventure\"\n",
        "3\n",
        "4  answer = input[\"You are on a dirt road, it has come to\n",
        "      an end and you can go left or right.Which way\n",
        "      would you like to go?\"]\n",
        "5\n",
        "6 if answer  ==  \"left\":\n",
        "7 answer=input[\"You come to a river, you can walk around it or swim accross? Type walk to walk around  swim to swim accross:\"]\n",
        "8 if answer == \"swim\":\n",
        "9\n",
        "10print[\"You swam across and were eaten by an\n",
        "      alligator\"]\n",
        "11    elif answer ==  \"walk\"\n",
        "12.       print[\"You walked for many miles, ran out of water and you lost the game\"]\n",
        "13    else:\n",
        "14print[\"Not a valid option.  you lose\"]\n",
        "15\n",
        "16  elif answer ==. \"right\":\n",
        "17       answer = input [\"You come to a bridge, it looks wobbly\"]"
      ]
    }
  ]
}